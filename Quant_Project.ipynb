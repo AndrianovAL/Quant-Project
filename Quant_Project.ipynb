{
 "cells": [
  {
   "cell_type": "markdown",
   "metadata": {
    "colab_type": "text",
    "id": "1ye7cHusFzzi"
   },
   "source": [
    "# **Question 1**\n",
    "One of the first option models developed was the Black-Scholes model. By making some key\n",
    "assumptions, the authors were able to derive a pricing model as follows:\n",
    "\n",
    "$c = S_0N(d_1)-Ke^{-rT}N(d_2)\\\\\n",
    "p=Ke^{-rT}N(-d_2)-S_0N(-d_1),$\n",
    "\n",
    "where\n",
    "$d_1={\\ln\\left({S_0\\over K}\\right)+\\left(r+{\\sigma^2\\over2}\\right)T\\over\\sigma\\sqrt{T}}$ \n",
    "and\n",
    "$d_2={\\ln\\left({S_0\\over K}\\right)+\\left(r-{\\sigma^2\\over2}\\right)T\\over\\sigma\\sqrt{T}}$\n",
    "\n",
    "$N(x)$ is the cumulative distribution function, $S_0$ is the current spot price, $K$ is the strike price of the\n",
    "option, $r$ is the continuously compounding risk-free rate, $\\sigma$ is the stock price volatility, and $T$ is the time to maturity."
   ]
  },
  {
   "cell_type": "markdown",
   "metadata": {
    "colab_type": "text",
    "id": "O8mcfyPWIvey"
   },
   "source": [
    "## **A)**\n",
    "What are the fundamental assumptions made to get to this result?\n",
    "-  Do any of these assumptions cause problems in employing the BS model in the current\n",
    "trading environment? Explain why."
   ]
  },
  {
   "cell_type": "markdown",
   "metadata": {
    "colab_type": "text",
    "id": "P7-zN3lZJBWV"
   },
   "source": [
    "### **Answer:**\n",
    "The fundamental assumptions are:\n",
    "\n",
    "\n",
    "1) There are no riskless arbitrage opportunities.\n",
    "\n",
    "\n",
    "2) The asset price movements follow geometric Brownian motion with constant drift and constant volatility, so the random increments or price changes will be normally distributed with an infinitesimal variance.\n",
    "\n",
    "Under this process the return to the holder of the stock in a small period of time is normally distributed and the returns in two nonoverlapping periods are independent. The value of the stock price at a future time follows a lognormal distribution.\n",
    "\n",
    "\n",
    "3) It is possible to buy and sell stocks in any amount. The short selling of securities with full use of proceeds is permitted. \n",
    "\n",
    "4) There are no transaction costs (the market is frictionless) or taxes. All securities are perfectly divisible.\n",
    "\n",
    "5) There are no dividends during the life of the derivative.\n",
    "\n",
    "6) Security trading is continuous.\n",
    "\n",
    "7) It is possible to borrow and lend cash at the same constant risk-free interest rate, i.e. the risk-free rate of interest r is constant and the same for all maturities.\n",
    "\n",
    "8) European options can only be exercised at expiration.\n",
    "\n",
    "9) Market movements cannot be predicted."
   ]
  },
  {
   "cell_type": "markdown",
   "metadata": {
    "colab_type": "text",
    "id": "CN1YD4cqJaTm"
   },
   "source": [
    "#### **Many assumptions can be challenged. Let’s discus a few.**\n",
    "\n",
    "1) The **constant interest rates** assumption of is not very realistic.\n",
    "\n",
    "2) The **frictionless market** assumption is also not very realistic since trading has transaction costs: brokerage fees, commission, and others.\n",
    "\n",
    "3) **The most important, perhaps, is the assumption that the price of the underlying asset S(t) is a geometric Brownian motion**, i.e. satisfies a stochastic differential equation of the form:\n",
    "\n",
    "${dS\\over S} = b\\ dt + σ\\ dW$ with the solution\n",
    "$S = S_0 e^{b - σ^2/2}t + σ W$, where $W$ is the process of Brownian motion, and b and σ are the parameters of the drift and the standard deviation.\n",
    "\n",
    "Nevertheless, the geometric Brownian motion (which was initially proposed to describe the behavior in the financial market in continuous time in the work of Samuelson [Samuelson, 1964]) does not very accurately model the change in value both in financial markets and in investment projects. In reality we can observe that fast (jump-like) changes, dependent or non-stationary increments are characteristic of the processes observed in the financial market. This do not agree with the assumption that the increment in the logarithms of the change is a Brownian movement around some trend (drift). A number of papers have been published on condition softening and generalized Black-Scholz models (e.g., [Aase, 1988], [Barndorff-Nielsen, 1977])."
   ]
  },
  {
   "cell_type": "markdown",
   "metadata": {
    "colab_type": "text",
    "id": "61r1kxbBKmHo"
   },
   "source": [
    "## B)\n",
    "How do the above equations change if our asset is based on a future instead of a stock? Write out the four equations using futures without using the current stock price."
   ]
  },
  {
   "cell_type": "markdown",
   "metadata": {
    "colab_type": "text",
    "id": "GDuJ0z8xMel7"
   },
   "source": [
    "### Answer\n",
    "#### Answer:\n",
    "$c = e^{– r T}(F_0 N(d_1) – K N(d_2))\\\\\n",
    "p = e^{– r T}(K N(-d_2) – F_0 N(–d_1)),$\n",
    "\n",
    "where\n",
    "$d_1={\\ln\\left(F_0/K\\right)+σ^2 T/2\\over σ\\sqrt{T}},\n",
    "d_2={\\ln\\left(F_0/K\\right)-σ^2 T/2\\over σ\\sqrt T}=\n",
    "d_1-σ\\sqrt T$."
   ]
  },
  {
   "cell_type": "markdown",
   "metadata": {
    "colab_type": "text",
    "id": "UDrSP_5JMntG"
   },
   "source": [
    "C) Assuming a fixed future price, what happens to the price of the option if the risk-free rate increases? Explain the price change in each of $c, p, d_1$, and $d_2$ above.\n",
    "\n"
   ]
  },
  {
   "cell_type": "markdown",
   "metadata": {
    "colab_type": "text",
    "id": "naRAeBY5MzUK"
   },
   "source": [
    "$d_1$ and $d_2$ do not depend on the risk-free rate, hence they are constants."
   ]
  },
  {
   "cell_type": "code",
   "execution_count": null,
   "metadata": {
    "colab": {},
    "colab_type": "code",
    "id": "6FdfwZ34FZeX"
   },
   "outputs": [],
   "source": [
    "from google.colab import drive\n",
    "drive.mount('/content/gdrive')\n",
    "\n",
    "# !pip install py_vollib\n",
    "\n",
    "from scipy.stats import norm\n",
    "import pylab\n",
    "import pandas as pd\n",
    "import numpy as np\n",
    "import py_vollib.black as bk #http://vollib.org/documentation/python/1.0.2/apidoc/py_vollib.black.html #http://vollib.org/documentation/python/0.1.5/apidoc/vollib.black_scholes.html\n"
   ]
  },
  {
   "cell_type": "markdown",
   "metadata": {
    "colab_type": "text",
    "id": "r_nVLsrNM8J9"
   },
   "source": [
    "##D)\n",
    "Please familiarize yourself with the following Greeks for both calls and puts\n",
    "- Gamma\n",
    "- Vega\n",
    "- Theta\n",
    "\n",
    "What Greek/s do you think are most important to consider when holding an option that expires\n",
    "\n",
    "    a. In a week?\n",
    "    b. In a month?\n",
    "    c. In a year?"
   ]
  },
  {
   "cell_type": "markdown",
   "metadata": {
    "colab_type": "text",
    "id": "ttFGWQgZF5Av"
   },
   "source": [
    "### Answer:"
   ]
  },
  {
   "cell_type": "code",
   "execution_count": null,
   "metadata": {
    "colab": {},
    "colab_type": "code",
    "id": "bKgWo2iTF4Xj"
   },
   "outputs": [],
   "source": [
    "filename = '/content/gdrive/My Drive/Colab/Data.csv'\n",
    "df = pd.read_csv(filename)\n"
   ]
  }
 ],
 "metadata": {
  "colab": {
   "collapsed_sections": [],
   "name": "Quant Project.ipynb",
   "provenance": []
  },
  "kernelspec": {
   "display_name": "Python 3",
   "language": "python",
   "name": "python3"
  },
  "language_info": {
   "codemirror_mode": {
    "name": "ipython",
    "version": 3
   },
   "file_extension": ".py",
   "mimetype": "text/x-python",
   "name": "python",
   "nbconvert_exporter": "python",
   "pygments_lexer": "ipython3",
   "version": "3.7.1"
  }
 },
 "nbformat": 4,
 "nbformat_minor": 1
}
